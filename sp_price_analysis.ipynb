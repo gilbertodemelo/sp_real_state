{
 "cells": [
  {
   "cell_type": "code",
   "execution_count": 1,
   "metadata": {
    "collapsed": true,
    "ExecuteTime": {
     "end_time": "2023-06-04T16:25:59.938713Z",
     "start_time": "2023-06-04T16:25:58.459170Z"
    }
   },
   "outputs": [],
   "source": [
    "import numpy as np\n",
    "import pandas as pd\n",
    "import matplotlib.pyplot as plt\n",
    "import locale"
   ]
  },
  {
   "cell_type": "code",
   "execution_count": 3,
   "outputs": [
    {
     "data": {
      "text/plain": "    Price  Condo  Size  Rooms  Toilets  Suites  Parking  Elevator  Furnished  \\\n0     930    220    47      2        2       1        1         0          0   \n1    1000    148    45      2        2       1        1         0          0   \n2    1000    100    48      2        2       1        1         0          0   \n3    1000    200    48      2        2       1        1         0          0   \n4    1300    410    55      2        2       1        1         1          0   \n5    1170      0    50      2        2       1        1         0          0   \n6    1000    180    52      1        2       1        1         1          0   \n7     900    150    40      2        2       1        1         0          0   \n8    1000      0    65      2        2       1        1         0          0   \n9    1000      0   100      2        2       1        1         0          0   \n10    760    160    38      2        2       1        1         0          0   \n11    800    150    48      2        2       1        1         0          0   \n12    900    130    56      2        2       1        1         0          0   \n13   1000    200    56      2        2       1        1         0          0   \n14   1800    418    54      2        2       1        1         1          0   \n15   1600    416    45      2        2       1        1         0          0   \n16   1500    337    55      2        2       1        1         1          0   \n17   1600    306    43      2        2       1        1         1          0   \n18   1600    150    80      2        2       1        1         1          0   \n19   1600    420    46      2        2       1        1         0          0   \n\n    Swimming Pool  New               District Negotiation Type Property Type  \\\n0               0    0  Artur Alvim/São Paulo             rent     apartment   \n1               0    0  Artur Alvim/São Paulo             rent     apartment   \n2               0    0  Artur Alvim/São Paulo             rent     apartment   \n3               0    0  Artur Alvim/São Paulo             rent     apartment   \n4               0    0  Artur Alvim/São Paulo             rent     apartment   \n5               0    0  Artur Alvim/São Paulo             rent     apartment   \n6               0    0  Artur Alvim/São Paulo             rent     apartment   \n7               0    0  Artur Alvim/São Paulo             rent     apartment   \n8               0    0  Artur Alvim/São Paulo             rent     apartment   \n9               0    0  Artur Alvim/São Paulo             rent     apartment   \n10              0    0  Artur Alvim/São Paulo             rent     apartment   \n11              0    0  Artur Alvim/São Paulo             rent     apartment   \n12              0    0  Artur Alvim/São Paulo             rent     apartment   \n13              0    0  Artur Alvim/São Paulo             rent     apartment   \n14              1    0        Belém/São Paulo             rent     apartment   \n15              0    0        Belém/São Paulo             rent     apartment   \n16              0    0        Belém/São Paulo             rent     apartment   \n17              0    0        Belém/São Paulo             rent     apartment   \n18              0    0        Belém/São Paulo             rent     apartment   \n19              0    0        Belém/São Paulo             rent     apartment   \n\n     Latitude  Longitude  \n0  -23.543138 -46.479486  \n1  -23.550239 -46.480718  \n2  -23.542818 -46.485665  \n3  -23.547171 -46.483014  \n4  -23.525025 -46.482436  \n5  -23.548751 -46.477195  \n6  -23.549840 -46.484137  \n7  -23.539740 -46.492670  \n8  -23.548751 -46.477195  \n9  -23.548751 -46.477195  \n10 -23.551850 -46.491169  \n11 -23.545761 -46.479509  \n12 -23.552073 -46.483411  \n13 -23.541366 -46.483726  \n14 -23.543955 -46.586619  \n15 -23.544698 -46.602114  \n16 -23.546104 -46.594579  \n17 -23.534606 -46.595084  \n18 -23.539620 -46.596337  \n19 -23.544698 -46.602114  ",
      "text/html": "<div>\n<style scoped>\n    .dataframe tbody tr th:only-of-type {\n        vertical-align: middle;\n    }\n\n    .dataframe tbody tr th {\n        vertical-align: top;\n    }\n\n    .dataframe thead th {\n        text-align: right;\n    }\n</style>\n<table border=\"1\" class=\"dataframe\">\n  <thead>\n    <tr style=\"text-align: right;\">\n      <th></th>\n      <th>Price</th>\n      <th>Condo</th>\n      <th>Size</th>\n      <th>Rooms</th>\n      <th>Toilets</th>\n      <th>Suites</th>\n      <th>Parking</th>\n      <th>Elevator</th>\n      <th>Furnished</th>\n      <th>Swimming Pool</th>\n      <th>New</th>\n      <th>District</th>\n      <th>Negotiation Type</th>\n      <th>Property Type</th>\n      <th>Latitude</th>\n      <th>Longitude</th>\n    </tr>\n  </thead>\n  <tbody>\n    <tr>\n      <th>0</th>\n      <td>930</td>\n      <td>220</td>\n      <td>47</td>\n      <td>2</td>\n      <td>2</td>\n      <td>1</td>\n      <td>1</td>\n      <td>0</td>\n      <td>0</td>\n      <td>0</td>\n      <td>0</td>\n      <td>Artur Alvim/São Paulo</td>\n      <td>rent</td>\n      <td>apartment</td>\n      <td>-23.543138</td>\n      <td>-46.479486</td>\n    </tr>\n    <tr>\n      <th>1</th>\n      <td>1000</td>\n      <td>148</td>\n      <td>45</td>\n      <td>2</td>\n      <td>2</td>\n      <td>1</td>\n      <td>1</td>\n      <td>0</td>\n      <td>0</td>\n      <td>0</td>\n      <td>0</td>\n      <td>Artur Alvim/São Paulo</td>\n      <td>rent</td>\n      <td>apartment</td>\n      <td>-23.550239</td>\n      <td>-46.480718</td>\n    </tr>\n    <tr>\n      <th>2</th>\n      <td>1000</td>\n      <td>100</td>\n      <td>48</td>\n      <td>2</td>\n      <td>2</td>\n      <td>1</td>\n      <td>1</td>\n      <td>0</td>\n      <td>0</td>\n      <td>0</td>\n      <td>0</td>\n      <td>Artur Alvim/São Paulo</td>\n      <td>rent</td>\n      <td>apartment</td>\n      <td>-23.542818</td>\n      <td>-46.485665</td>\n    </tr>\n    <tr>\n      <th>3</th>\n      <td>1000</td>\n      <td>200</td>\n      <td>48</td>\n      <td>2</td>\n      <td>2</td>\n      <td>1</td>\n      <td>1</td>\n      <td>0</td>\n      <td>0</td>\n      <td>0</td>\n      <td>0</td>\n      <td>Artur Alvim/São Paulo</td>\n      <td>rent</td>\n      <td>apartment</td>\n      <td>-23.547171</td>\n      <td>-46.483014</td>\n    </tr>\n    <tr>\n      <th>4</th>\n      <td>1300</td>\n      <td>410</td>\n      <td>55</td>\n      <td>2</td>\n      <td>2</td>\n      <td>1</td>\n      <td>1</td>\n      <td>1</td>\n      <td>0</td>\n      <td>0</td>\n      <td>0</td>\n      <td>Artur Alvim/São Paulo</td>\n      <td>rent</td>\n      <td>apartment</td>\n      <td>-23.525025</td>\n      <td>-46.482436</td>\n    </tr>\n    <tr>\n      <th>5</th>\n      <td>1170</td>\n      <td>0</td>\n      <td>50</td>\n      <td>2</td>\n      <td>2</td>\n      <td>1</td>\n      <td>1</td>\n      <td>0</td>\n      <td>0</td>\n      <td>0</td>\n      <td>0</td>\n      <td>Artur Alvim/São Paulo</td>\n      <td>rent</td>\n      <td>apartment</td>\n      <td>-23.548751</td>\n      <td>-46.477195</td>\n    </tr>\n    <tr>\n      <th>6</th>\n      <td>1000</td>\n      <td>180</td>\n      <td>52</td>\n      <td>1</td>\n      <td>2</td>\n      <td>1</td>\n      <td>1</td>\n      <td>1</td>\n      <td>0</td>\n      <td>0</td>\n      <td>0</td>\n      <td>Artur Alvim/São Paulo</td>\n      <td>rent</td>\n      <td>apartment</td>\n      <td>-23.549840</td>\n      <td>-46.484137</td>\n    </tr>\n    <tr>\n      <th>7</th>\n      <td>900</td>\n      <td>150</td>\n      <td>40</td>\n      <td>2</td>\n      <td>2</td>\n      <td>1</td>\n      <td>1</td>\n      <td>0</td>\n      <td>0</td>\n      <td>0</td>\n      <td>0</td>\n      <td>Artur Alvim/São Paulo</td>\n      <td>rent</td>\n      <td>apartment</td>\n      <td>-23.539740</td>\n      <td>-46.492670</td>\n    </tr>\n    <tr>\n      <th>8</th>\n      <td>1000</td>\n      <td>0</td>\n      <td>65</td>\n      <td>2</td>\n      <td>2</td>\n      <td>1</td>\n      <td>1</td>\n      <td>0</td>\n      <td>0</td>\n      <td>0</td>\n      <td>0</td>\n      <td>Artur Alvim/São Paulo</td>\n      <td>rent</td>\n      <td>apartment</td>\n      <td>-23.548751</td>\n      <td>-46.477195</td>\n    </tr>\n    <tr>\n      <th>9</th>\n      <td>1000</td>\n      <td>0</td>\n      <td>100</td>\n      <td>2</td>\n      <td>2</td>\n      <td>1</td>\n      <td>1</td>\n      <td>0</td>\n      <td>0</td>\n      <td>0</td>\n      <td>0</td>\n      <td>Artur Alvim/São Paulo</td>\n      <td>rent</td>\n      <td>apartment</td>\n      <td>-23.548751</td>\n      <td>-46.477195</td>\n    </tr>\n    <tr>\n      <th>10</th>\n      <td>760</td>\n      <td>160</td>\n      <td>38</td>\n      <td>2</td>\n      <td>2</td>\n      <td>1</td>\n      <td>1</td>\n      <td>0</td>\n      <td>0</td>\n      <td>0</td>\n      <td>0</td>\n      <td>Artur Alvim/São Paulo</td>\n      <td>rent</td>\n      <td>apartment</td>\n      <td>-23.551850</td>\n      <td>-46.491169</td>\n    </tr>\n    <tr>\n      <th>11</th>\n      <td>800</td>\n      <td>150</td>\n      <td>48</td>\n      <td>2</td>\n      <td>2</td>\n      <td>1</td>\n      <td>1</td>\n      <td>0</td>\n      <td>0</td>\n      <td>0</td>\n      <td>0</td>\n      <td>Artur Alvim/São Paulo</td>\n      <td>rent</td>\n      <td>apartment</td>\n      <td>-23.545761</td>\n      <td>-46.479509</td>\n    </tr>\n    <tr>\n      <th>12</th>\n      <td>900</td>\n      <td>130</td>\n      <td>56</td>\n      <td>2</td>\n      <td>2</td>\n      <td>1</td>\n      <td>1</td>\n      <td>0</td>\n      <td>0</td>\n      <td>0</td>\n      <td>0</td>\n      <td>Artur Alvim/São Paulo</td>\n      <td>rent</td>\n      <td>apartment</td>\n      <td>-23.552073</td>\n      <td>-46.483411</td>\n    </tr>\n    <tr>\n      <th>13</th>\n      <td>1000</td>\n      <td>200</td>\n      <td>56</td>\n      <td>2</td>\n      <td>2</td>\n      <td>1</td>\n      <td>1</td>\n      <td>0</td>\n      <td>0</td>\n      <td>0</td>\n      <td>0</td>\n      <td>Artur Alvim/São Paulo</td>\n      <td>rent</td>\n      <td>apartment</td>\n      <td>-23.541366</td>\n      <td>-46.483726</td>\n    </tr>\n    <tr>\n      <th>14</th>\n      <td>1800</td>\n      <td>418</td>\n      <td>54</td>\n      <td>2</td>\n      <td>2</td>\n      <td>1</td>\n      <td>1</td>\n      <td>1</td>\n      <td>0</td>\n      <td>1</td>\n      <td>0</td>\n      <td>Belém/São Paulo</td>\n      <td>rent</td>\n      <td>apartment</td>\n      <td>-23.543955</td>\n      <td>-46.586619</td>\n    </tr>\n    <tr>\n      <th>15</th>\n      <td>1600</td>\n      <td>416</td>\n      <td>45</td>\n      <td>2</td>\n      <td>2</td>\n      <td>1</td>\n      <td>1</td>\n      <td>0</td>\n      <td>0</td>\n      <td>0</td>\n      <td>0</td>\n      <td>Belém/São Paulo</td>\n      <td>rent</td>\n      <td>apartment</td>\n      <td>-23.544698</td>\n      <td>-46.602114</td>\n    </tr>\n    <tr>\n      <th>16</th>\n      <td>1500</td>\n      <td>337</td>\n      <td>55</td>\n      <td>2</td>\n      <td>2</td>\n      <td>1</td>\n      <td>1</td>\n      <td>1</td>\n      <td>0</td>\n      <td>0</td>\n      <td>0</td>\n      <td>Belém/São Paulo</td>\n      <td>rent</td>\n      <td>apartment</td>\n      <td>-23.546104</td>\n      <td>-46.594579</td>\n    </tr>\n    <tr>\n      <th>17</th>\n      <td>1600</td>\n      <td>306</td>\n      <td>43</td>\n      <td>2</td>\n      <td>2</td>\n      <td>1</td>\n      <td>1</td>\n      <td>1</td>\n      <td>0</td>\n      <td>0</td>\n      <td>0</td>\n      <td>Belém/São Paulo</td>\n      <td>rent</td>\n      <td>apartment</td>\n      <td>-23.534606</td>\n      <td>-46.595084</td>\n    </tr>\n    <tr>\n      <th>18</th>\n      <td>1600</td>\n      <td>150</td>\n      <td>80</td>\n      <td>2</td>\n      <td>2</td>\n      <td>1</td>\n      <td>1</td>\n      <td>1</td>\n      <td>0</td>\n      <td>0</td>\n      <td>0</td>\n      <td>Belém/São Paulo</td>\n      <td>rent</td>\n      <td>apartment</td>\n      <td>-23.539620</td>\n      <td>-46.596337</td>\n    </tr>\n    <tr>\n      <th>19</th>\n      <td>1600</td>\n      <td>420</td>\n      <td>46</td>\n      <td>2</td>\n      <td>2</td>\n      <td>1</td>\n      <td>1</td>\n      <td>0</td>\n      <td>0</td>\n      <td>0</td>\n      <td>0</td>\n      <td>Belém/São Paulo</td>\n      <td>rent</td>\n      <td>apartment</td>\n      <td>-23.544698</td>\n      <td>-46.602114</td>\n    </tr>\n  </tbody>\n</table>\n</div>"
     },
     "execution_count": 3,
     "metadata": {},
     "output_type": "execute_result"
    }
   ],
   "source": [
    "# Read the file\n",
    "df = pd.read_csv('sao-paulo-properties-april-2019.csv')\n",
    "df.head(20)"
   ],
   "metadata": {
    "collapsed": false,
    "ExecuteTime": {
     "end_time": "2023-06-04T16:26:08.478731Z",
     "start_time": "2023-06-04T16:26:08.435576Z"
    }
   }
  },
  {
   "cell_type": "code",
   "execution_count": 4,
   "outputs": [],
   "source": [
    "# Work with sales first\n",
    "sales = df[df['Negotiation Type'] == 'sale'].reset_index()\n",
    "\n",
    "# Will drop the column 'index'\n",
    "sales = sales.drop('index', axis=1)"
   ],
   "metadata": {
    "collapsed": false,
    "ExecuteTime": {
     "end_time": "2023-06-04T16:26:09.720292Z",
     "start_time": "2023-06-04T16:26:09.710792Z"
    }
   }
  },
  {
   "cell_type": "code",
   "execution_count": 5,
   "outputs": [
    {
     "data": {
      "text/plain": "        Price  Condo  Size  Rooms  Toilets  Suites  Parking  Elevator  \\\n0      732600   1000    74      1        2       1        2         1   \n1     1990000   2400   164      4        5       2        3         1   \n2      720000    700    70      2        2       1        1         1   \n3     1680000   1580   155      3        5       3        2         1   \n4     1200000    900    56      2        2       1        2         0   \n...       ...    ...   ...    ...      ...     ...      ...       ...   \n6407   265000    420    51      2        1       0        1         0   \n6408   545000    630    74      3        2       1        2         0   \n6409   515000   1100   114      3        3       1        1         0   \n6410   345000     48    39      1        2       1        1         0   \n6411   161987      0    44      2        1       0        1         0   \n\n      Furnished  Swimming Pool  New       District Negotiation Type  \\\n0             0              1    0  Vila Madalena             sale   \n1             1              1    0  Vila Madalena             sale   \n2             0              1    1  Vila Madalena             sale   \n3             0              1    0  Vila Madalena             sale   \n4             1              1    0  Vila Madalena             sale   \n...         ...            ...  ...            ...              ...   \n6407          0              0    0      Jabaquara             sale   \n6408          0              1    0      Jabaquara             sale   \n6409          0              1    0      Jabaquara             sale   \n6410          1              1    0      Jabaquara             sale   \n6411          0              0    0  Jardim Ângela             sale   \n\n     Property Type   Latitude  Longitude       City  \n0        apartment -23.552129 -46.692244  São Paulo  \n1        apartment -23.551613 -46.699106  São Paulo  \n2        apartment -23.547687 -46.692594  São Paulo  \n3        apartment -23.552590 -46.691104  São Paulo  \n4        apartment -23.553087 -46.697890  São Paulo  \n...            ...        ...        ...        ...  \n6407     apartment -23.653004 -46.635463  São Paulo  \n6408     apartment -23.648930 -46.641982  São Paulo  \n6409     apartment -23.649693 -46.649783  São Paulo  \n6410     apartment -23.652060 -46.637046  São Paulo  \n6411     apartment -23.613391 -46.523109  São Paulo  \n\n[6412 rows x 17 columns]",
      "text/html": "<div>\n<style scoped>\n    .dataframe tbody tr th:only-of-type {\n        vertical-align: middle;\n    }\n\n    .dataframe tbody tr th {\n        vertical-align: top;\n    }\n\n    .dataframe thead th {\n        text-align: right;\n    }\n</style>\n<table border=\"1\" class=\"dataframe\">\n  <thead>\n    <tr style=\"text-align: right;\">\n      <th></th>\n      <th>Price</th>\n      <th>Condo</th>\n      <th>Size</th>\n      <th>Rooms</th>\n      <th>Toilets</th>\n      <th>Suites</th>\n      <th>Parking</th>\n      <th>Elevator</th>\n      <th>Furnished</th>\n      <th>Swimming Pool</th>\n      <th>New</th>\n      <th>District</th>\n      <th>Negotiation Type</th>\n      <th>Property Type</th>\n      <th>Latitude</th>\n      <th>Longitude</th>\n      <th>City</th>\n    </tr>\n  </thead>\n  <tbody>\n    <tr>\n      <th>0</th>\n      <td>732600</td>\n      <td>1000</td>\n      <td>74</td>\n      <td>1</td>\n      <td>2</td>\n      <td>1</td>\n      <td>2</td>\n      <td>1</td>\n      <td>0</td>\n      <td>1</td>\n      <td>0</td>\n      <td>Vila Madalena</td>\n      <td>sale</td>\n      <td>apartment</td>\n      <td>-23.552129</td>\n      <td>-46.692244</td>\n      <td>São Paulo</td>\n    </tr>\n    <tr>\n      <th>1</th>\n      <td>1990000</td>\n      <td>2400</td>\n      <td>164</td>\n      <td>4</td>\n      <td>5</td>\n      <td>2</td>\n      <td>3</td>\n      <td>1</td>\n      <td>1</td>\n      <td>1</td>\n      <td>0</td>\n      <td>Vila Madalena</td>\n      <td>sale</td>\n      <td>apartment</td>\n      <td>-23.551613</td>\n      <td>-46.699106</td>\n      <td>São Paulo</td>\n    </tr>\n    <tr>\n      <th>2</th>\n      <td>720000</td>\n      <td>700</td>\n      <td>70</td>\n      <td>2</td>\n      <td>2</td>\n      <td>1</td>\n      <td>1</td>\n      <td>1</td>\n      <td>0</td>\n      <td>1</td>\n      <td>1</td>\n      <td>Vila Madalena</td>\n      <td>sale</td>\n      <td>apartment</td>\n      <td>-23.547687</td>\n      <td>-46.692594</td>\n      <td>São Paulo</td>\n    </tr>\n    <tr>\n      <th>3</th>\n      <td>1680000</td>\n      <td>1580</td>\n      <td>155</td>\n      <td>3</td>\n      <td>5</td>\n      <td>3</td>\n      <td>2</td>\n      <td>1</td>\n      <td>0</td>\n      <td>1</td>\n      <td>0</td>\n      <td>Vila Madalena</td>\n      <td>sale</td>\n      <td>apartment</td>\n      <td>-23.552590</td>\n      <td>-46.691104</td>\n      <td>São Paulo</td>\n    </tr>\n    <tr>\n      <th>4</th>\n      <td>1200000</td>\n      <td>900</td>\n      <td>56</td>\n      <td>2</td>\n      <td>2</td>\n      <td>1</td>\n      <td>2</td>\n      <td>0</td>\n      <td>1</td>\n      <td>1</td>\n      <td>0</td>\n      <td>Vila Madalena</td>\n      <td>sale</td>\n      <td>apartment</td>\n      <td>-23.553087</td>\n      <td>-46.697890</td>\n      <td>São Paulo</td>\n    </tr>\n    <tr>\n      <th>...</th>\n      <td>...</td>\n      <td>...</td>\n      <td>...</td>\n      <td>...</td>\n      <td>...</td>\n      <td>...</td>\n      <td>...</td>\n      <td>...</td>\n      <td>...</td>\n      <td>...</td>\n      <td>...</td>\n      <td>...</td>\n      <td>...</td>\n      <td>...</td>\n      <td>...</td>\n      <td>...</td>\n      <td>...</td>\n    </tr>\n    <tr>\n      <th>6407</th>\n      <td>265000</td>\n      <td>420</td>\n      <td>51</td>\n      <td>2</td>\n      <td>1</td>\n      <td>0</td>\n      <td>1</td>\n      <td>0</td>\n      <td>0</td>\n      <td>0</td>\n      <td>0</td>\n      <td>Jabaquara</td>\n      <td>sale</td>\n      <td>apartment</td>\n      <td>-23.653004</td>\n      <td>-46.635463</td>\n      <td>São Paulo</td>\n    </tr>\n    <tr>\n      <th>6408</th>\n      <td>545000</td>\n      <td>630</td>\n      <td>74</td>\n      <td>3</td>\n      <td>2</td>\n      <td>1</td>\n      <td>2</td>\n      <td>0</td>\n      <td>0</td>\n      <td>1</td>\n      <td>0</td>\n      <td>Jabaquara</td>\n      <td>sale</td>\n      <td>apartment</td>\n      <td>-23.648930</td>\n      <td>-46.641982</td>\n      <td>São Paulo</td>\n    </tr>\n    <tr>\n      <th>6409</th>\n      <td>515000</td>\n      <td>1100</td>\n      <td>114</td>\n      <td>3</td>\n      <td>3</td>\n      <td>1</td>\n      <td>1</td>\n      <td>0</td>\n      <td>0</td>\n      <td>1</td>\n      <td>0</td>\n      <td>Jabaquara</td>\n      <td>sale</td>\n      <td>apartment</td>\n      <td>-23.649693</td>\n      <td>-46.649783</td>\n      <td>São Paulo</td>\n    </tr>\n    <tr>\n      <th>6410</th>\n      <td>345000</td>\n      <td>48</td>\n      <td>39</td>\n      <td>1</td>\n      <td>2</td>\n      <td>1</td>\n      <td>1</td>\n      <td>0</td>\n      <td>1</td>\n      <td>1</td>\n      <td>0</td>\n      <td>Jabaquara</td>\n      <td>sale</td>\n      <td>apartment</td>\n      <td>-23.652060</td>\n      <td>-46.637046</td>\n      <td>São Paulo</td>\n    </tr>\n    <tr>\n      <th>6411</th>\n      <td>161987</td>\n      <td>0</td>\n      <td>44</td>\n      <td>2</td>\n      <td>1</td>\n      <td>0</td>\n      <td>1</td>\n      <td>0</td>\n      <td>0</td>\n      <td>0</td>\n      <td>0</td>\n      <td>Jardim Ângela</td>\n      <td>sale</td>\n      <td>apartment</td>\n      <td>-23.613391</td>\n      <td>-46.523109</td>\n      <td>São Paulo</td>\n    </tr>\n  </tbody>\n</table>\n<p>6412 rows × 17 columns</p>\n</div>"
     },
     "execution_count": 5,
     "metadata": {},
     "output_type": "execute_result"
    }
   ],
   "source": [
    "sales['City'] = sales['District'].apply(lambda x: x.split('/')[1].strip())\n",
    "sales['District'] = sales['District'].apply(lambda x: x.split('/')[0])\n",
    "sales"
   ],
   "metadata": {
    "collapsed": false,
    "ExecuteTime": {
     "end_time": "2023-06-04T16:26:15.719615Z",
     "start_time": "2023-06-04T16:26:15.692056Z"
    }
   }
  },
  {
   "cell_type": "code",
   "execution_count": 33,
   "outputs": [
    {
     "data": {
      "text/plain": "               District Count                                           ...  \\\nNew                         0                                           ...   \nSize                       30   34   49    56   60   63   73   76   77  ...   \n0     Alto de Pinheiros   1.0  1.0  2.0   1.0  1.0  2.0  3.0  1.0  1.0  ...   \n1            Anhanguera   NaN  NaN  NaN   NaN  1.0  1.0  NaN  1.0  NaN  ...   \n2            Aricanduva   NaN  NaN  3.0   3.0  1.0  NaN  NaN  NaN  1.0  ...   \n3           Artur Alvim   NaN  NaN  3.0  19.0  1.0  NaN  NaN  NaN  NaN  ...   \n4           Barra Funda   NaN  9.0  NaN   NaN  NaN  2.0  NaN  2.0  NaN  ...   \n..                  ...   ...  ...  ...   ...  ...  ...  ...  ...  ...  ...   \n91         Vila Matilde   NaN  NaN  1.0   NaN  2.0  1.0  2.0  NaN  NaN  ...   \n92         Vila Olimpia   NaN  NaN  NaN   NaN  1.0  NaN  NaN  1.0  NaN  ...   \n93        Vila Prudente   1.0  2.0  4.0   3.0  4.0  1.0  NaN  1.0  1.0  ...   \n94           Vila Sônia   NaN  NaN  NaN   NaN  NaN  NaN  NaN  1.0  1.0  ...   \n95            Água Rasa   NaN  NaN  NaN   1.0  2.0  6.0  1.0  2.0  NaN  ...   \n\n     Mean_Size                                                 \nNew          0   1               0            1             0  \nSize       141 128 218  62  63 267    278    51    152    188  \n0          NaN NaN NaN NaN NaN NaN    NaN   NaN    NaN    NaN  \n1          NaN NaN NaN NaN NaN NaN    NaN   NaN    NaN    NaN  \n2          NaN NaN NaN NaN NaN NaN    NaN   NaN    NaN    NaN  \n3          NaN NaN NaN NaN NaN NaN    NaN   NaN    NaN    NaN  \n4          NaN NaN NaN NaN NaN NaN    NaN   NaN    NaN    NaN  \n..         ...  ..  ..  ..  ..  ..    ...   ...    ...    ...  \n91         NaN NaN NaN NaN NaN NaN    NaN   NaN    NaN    NaN  \n92         NaN NaN NaN NaN NaN NaN  278.0   NaN    NaN    NaN  \n93         NaN NaN NaN NaN NaN NaN    NaN  51.0  152.0    NaN  \n94         NaN NaN NaN NaN NaN NaN    NaN   NaN    NaN  188.0  \n95         NaN NaN NaN NaN NaN NaN    NaN   NaN    NaN    NaN  \n\n[96 rows x 997 columns]",
      "text/html": "<div>\n<style scoped>\n    .dataframe tbody tr th:only-of-type {\n        vertical-align: middle;\n    }\n\n    .dataframe tbody tr th {\n        vertical-align: top;\n    }\n\n    .dataframe thead tr th {\n        text-align: left;\n    }\n</style>\n<table border=\"1\" class=\"dataframe\">\n  <thead>\n    <tr>\n      <th></th>\n      <th>District</th>\n      <th colspan=\"9\" halign=\"left\">Count</th>\n      <th>...</th>\n      <th colspan=\"10\" halign=\"left\">Mean_Size</th>\n    </tr>\n    <tr>\n      <th>New</th>\n      <th></th>\n      <th colspan=\"9\" halign=\"left\">0</th>\n      <th>...</th>\n      <th>0</th>\n      <th colspan=\"4\" halign=\"left\">1</th>\n      <th colspan=\"2\" halign=\"left\">0</th>\n      <th colspan=\"2\" halign=\"left\">1</th>\n      <th>0</th>\n    </tr>\n    <tr>\n      <th>Size</th>\n      <th></th>\n      <th>30</th>\n      <th>34</th>\n      <th>49</th>\n      <th>56</th>\n      <th>60</th>\n      <th>63</th>\n      <th>73</th>\n      <th>76</th>\n      <th>77</th>\n      <th>...</th>\n      <th>141</th>\n      <th>128</th>\n      <th>218</th>\n      <th>62</th>\n      <th>63</th>\n      <th>267</th>\n      <th>278</th>\n      <th>51</th>\n      <th>152</th>\n      <th>188</th>\n    </tr>\n  </thead>\n  <tbody>\n    <tr>\n      <th>0</th>\n      <td>Alto de Pinheiros</td>\n      <td>1.0</td>\n      <td>1.0</td>\n      <td>2.0</td>\n      <td>1.0</td>\n      <td>1.0</td>\n      <td>2.0</td>\n      <td>3.0</td>\n      <td>1.0</td>\n      <td>1.0</td>\n      <td>...</td>\n      <td>NaN</td>\n      <td>NaN</td>\n      <td>NaN</td>\n      <td>NaN</td>\n      <td>NaN</td>\n      <td>NaN</td>\n      <td>NaN</td>\n      <td>NaN</td>\n      <td>NaN</td>\n      <td>NaN</td>\n    </tr>\n    <tr>\n      <th>1</th>\n      <td>Anhanguera</td>\n      <td>NaN</td>\n      <td>NaN</td>\n      <td>NaN</td>\n      <td>NaN</td>\n      <td>1.0</td>\n      <td>1.0</td>\n      <td>NaN</td>\n      <td>1.0</td>\n      <td>NaN</td>\n      <td>...</td>\n      <td>NaN</td>\n      <td>NaN</td>\n      <td>NaN</td>\n      <td>NaN</td>\n      <td>NaN</td>\n      <td>NaN</td>\n      <td>NaN</td>\n      <td>NaN</td>\n      <td>NaN</td>\n      <td>NaN</td>\n    </tr>\n    <tr>\n      <th>2</th>\n      <td>Aricanduva</td>\n      <td>NaN</td>\n      <td>NaN</td>\n      <td>3.0</td>\n      <td>3.0</td>\n      <td>1.0</td>\n      <td>NaN</td>\n      <td>NaN</td>\n      <td>NaN</td>\n      <td>1.0</td>\n      <td>...</td>\n      <td>NaN</td>\n      <td>NaN</td>\n      <td>NaN</td>\n      <td>NaN</td>\n      <td>NaN</td>\n      <td>NaN</td>\n      <td>NaN</td>\n      <td>NaN</td>\n      <td>NaN</td>\n      <td>NaN</td>\n    </tr>\n    <tr>\n      <th>3</th>\n      <td>Artur Alvim</td>\n      <td>NaN</td>\n      <td>NaN</td>\n      <td>3.0</td>\n      <td>19.0</td>\n      <td>1.0</td>\n      <td>NaN</td>\n      <td>NaN</td>\n      <td>NaN</td>\n      <td>NaN</td>\n      <td>...</td>\n      <td>NaN</td>\n      <td>NaN</td>\n      <td>NaN</td>\n      <td>NaN</td>\n      <td>NaN</td>\n      <td>NaN</td>\n      <td>NaN</td>\n      <td>NaN</td>\n      <td>NaN</td>\n      <td>NaN</td>\n    </tr>\n    <tr>\n      <th>4</th>\n      <td>Barra Funda</td>\n      <td>NaN</td>\n      <td>9.0</td>\n      <td>NaN</td>\n      <td>NaN</td>\n      <td>NaN</td>\n      <td>2.0</td>\n      <td>NaN</td>\n      <td>2.0</td>\n      <td>NaN</td>\n      <td>...</td>\n      <td>NaN</td>\n      <td>NaN</td>\n      <td>NaN</td>\n      <td>NaN</td>\n      <td>NaN</td>\n      <td>NaN</td>\n      <td>NaN</td>\n      <td>NaN</td>\n      <td>NaN</td>\n      <td>NaN</td>\n    </tr>\n    <tr>\n      <th>...</th>\n      <td>...</td>\n      <td>...</td>\n      <td>...</td>\n      <td>...</td>\n      <td>...</td>\n      <td>...</td>\n      <td>...</td>\n      <td>...</td>\n      <td>...</td>\n      <td>...</td>\n      <td>...</td>\n      <td>...</td>\n      <td>...</td>\n      <td>...</td>\n      <td>...</td>\n      <td>...</td>\n      <td>...</td>\n      <td>...</td>\n      <td>...</td>\n      <td>...</td>\n      <td>...</td>\n    </tr>\n    <tr>\n      <th>91</th>\n      <td>Vila Matilde</td>\n      <td>NaN</td>\n      <td>NaN</td>\n      <td>1.0</td>\n      <td>NaN</td>\n      <td>2.0</td>\n      <td>1.0</td>\n      <td>2.0</td>\n      <td>NaN</td>\n      <td>NaN</td>\n      <td>...</td>\n      <td>NaN</td>\n      <td>NaN</td>\n      <td>NaN</td>\n      <td>NaN</td>\n      <td>NaN</td>\n      <td>NaN</td>\n      <td>NaN</td>\n      <td>NaN</td>\n      <td>NaN</td>\n      <td>NaN</td>\n    </tr>\n    <tr>\n      <th>92</th>\n      <td>Vila Olimpia</td>\n      <td>NaN</td>\n      <td>NaN</td>\n      <td>NaN</td>\n      <td>NaN</td>\n      <td>1.0</td>\n      <td>NaN</td>\n      <td>NaN</td>\n      <td>1.0</td>\n      <td>NaN</td>\n      <td>...</td>\n      <td>NaN</td>\n      <td>NaN</td>\n      <td>NaN</td>\n      <td>NaN</td>\n      <td>NaN</td>\n      <td>NaN</td>\n      <td>278.0</td>\n      <td>NaN</td>\n      <td>NaN</td>\n      <td>NaN</td>\n    </tr>\n    <tr>\n      <th>93</th>\n      <td>Vila Prudente</td>\n      <td>1.0</td>\n      <td>2.0</td>\n      <td>4.0</td>\n      <td>3.0</td>\n      <td>4.0</td>\n      <td>1.0</td>\n      <td>NaN</td>\n      <td>1.0</td>\n      <td>1.0</td>\n      <td>...</td>\n      <td>NaN</td>\n      <td>NaN</td>\n      <td>NaN</td>\n      <td>NaN</td>\n      <td>NaN</td>\n      <td>NaN</td>\n      <td>NaN</td>\n      <td>51.0</td>\n      <td>152.0</td>\n      <td>NaN</td>\n    </tr>\n    <tr>\n      <th>94</th>\n      <td>Vila Sônia</td>\n      <td>NaN</td>\n      <td>NaN</td>\n      <td>NaN</td>\n      <td>NaN</td>\n      <td>NaN</td>\n      <td>NaN</td>\n      <td>NaN</td>\n      <td>1.0</td>\n      <td>1.0</td>\n      <td>...</td>\n      <td>NaN</td>\n      <td>NaN</td>\n      <td>NaN</td>\n      <td>NaN</td>\n      <td>NaN</td>\n      <td>NaN</td>\n      <td>NaN</td>\n      <td>NaN</td>\n      <td>NaN</td>\n      <td>188.0</td>\n    </tr>\n    <tr>\n      <th>95</th>\n      <td>Água Rasa</td>\n      <td>NaN</td>\n      <td>NaN</td>\n      <td>NaN</td>\n      <td>1.0</td>\n      <td>2.0</td>\n      <td>6.0</td>\n      <td>1.0</td>\n      <td>2.0</td>\n      <td>NaN</td>\n      <td>...</td>\n      <td>NaN</td>\n      <td>NaN</td>\n      <td>NaN</td>\n      <td>NaN</td>\n      <td>NaN</td>\n      <td>NaN</td>\n      <td>NaN</td>\n      <td>NaN</td>\n      <td>NaN</td>\n      <td>NaN</td>\n    </tr>\n  </tbody>\n</table>\n<p>96 rows × 997 columns</p>\n</div>"
     },
     "execution_count": 33,
     "metadata": {},
     "output_type": "execute_result"
    }
   ],
   "source": [
    "\n",
    "result = sales.groupby(['District', 'New', 'Size']).agg(Count=('New', 'count'), Mean_Price=('Price', 'mean'), Mean_Size=('Size', 'mean')).reset_index()\n",
    "result = result.pivot(index='District', columns='New', values=['Count', 'Mean_Price', 'Mean_Size']).reset_index()\n",
    "result\n",
    "\n",
    "#result.columns = ['District', 'Older Apartments', 'New Apartments', 'Average Price Old', 'Average Price New']\n",
    "#result['Older Apartments'] = result['Older Apartments'].astype(int)\n",
    "#result['New Apartments'] = result['New Apartments'].fillna(0).astype(int)\n"
   ],
   "metadata": {
    "collapsed": false,
    "ExecuteTime": {
     "end_time": "2023-06-04T16:57:01.252753Z",
     "start_time": "2023-06-04T16:57:01.212590Z"
    }
   }
  },
  {
   "cell_type": "code",
   "execution_count": 19,
   "outputs": [
    {
     "data": {
      "text/plain": "District\nAlto de Pinheiros    2.455076e+06\nAnhanguera           1.040806e+06\nAricanduva           2.953348e+05\nArtur Alvim          1.896892e+05\nBarra Funda          5.832771e+05\n                         ...     \nVila Matilde         3.428811e+05\nVila Olimpia         1.616112e+06\nVila Prudente        3.971625e+05\nVila Sônia           5.198447e+05\nÁgua Rasa            6.349459e+05\nName: Price, Length: 96, dtype: float64"
     },
     "execution_count": 19,
     "metadata": {},
     "output_type": "execute_result"
    }
   ],
   "source": [
    "# Average Price per District\n",
    "district_avg_price = sales.groupby('District')['Price'].mean()\n",
    "\n",
    "# Set the locale to Brazilian Portuguese\n",
    "locale.setlocale(locale.LC_ALL, 'pt_BR.UTF-8')\n",
    "\n",
    "# Format the price\n",
    "def format_price(price):\n",
    "    return locale.currency(price, grouping=True, symbol='R$')\n",
    "\n",
    "# district_avg_price = district_avg_price.apply(lambda x: '{:.2f}'.format(x))\n",
    "# district_avg_price = district_avg_price.apply(lambda x: format_price(float(x)))\n",
    "\n",
    "district_avg_price"
   ],
   "metadata": {
    "collapsed": false,
    "ExecuteTime": {
     "end_time": "2023-06-04T16:41:27.342036Z",
     "start_time": "2023-06-04T16:41:27.303716Z"
    }
   }
  },
  {
   "cell_type": "code",
   "execution_count": null,
   "outputs": [],
   "source": [
    "# Top 10 most expensive districts in Sao Paulo\n",
    "district_avg_price.nlargest(10)"
   ],
   "metadata": {
    "collapsed": false
   }
  },
  {
   "cell_type": "code",
   "execution_count": null,
   "outputs": [],
   "source": [
    "# And the bottom\n",
    "district_avg_price.nsmallest(10)"
   ],
   "metadata": {
    "collapsed": false
   }
  },
  {
   "cell_type": "code",
   "execution_count": null,
   "outputs": [],
   "source": [],
   "metadata": {
    "collapsed": false
   }
  }
 ],
 "metadata": {
  "kernelspec": {
   "display_name": "Python 3",
   "language": "python",
   "name": "python3"
  },
  "language_info": {
   "codemirror_mode": {
    "name": "ipython",
    "version": 2
   },
   "file_extension": ".py",
   "mimetype": "text/x-python",
   "name": "python",
   "nbconvert_exporter": "python",
   "pygments_lexer": "ipython2",
   "version": "2.7.6"
  }
 },
 "nbformat": 4,
 "nbformat_minor": 0
}
