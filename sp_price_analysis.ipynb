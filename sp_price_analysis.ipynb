{
 "cells": [
  {
   "cell_type": "code",
   "execution_count": 2,
   "metadata": {
    "collapsed": true,
    "ExecuteTime": {
     "end_time": "2023-06-05T00:01:33.764023Z",
     "start_time": "2023-06-05T00:01:32.410738Z"
    }
   },
   "outputs": [],
   "source": [
    "import numpy as np\n",
    "import pandas as pd\n",
    "import matplotlib.pyplot as plt\n",
    "import locale"
   ]
  },
  {
   "cell_type": "code",
   "execution_count": 3,
   "outputs": [
    {
     "data": {
      "text/plain": "    Price  Condo  Size  Rooms  Toilets  Suites  Parking  Elevator  Furnished  \\\n0     930    220    47      2        2       1        1         0          0   \n1    1000    148    45      2        2       1        1         0          0   \n2    1000    100    48      2        2       1        1         0          0   \n3    1000    200    48      2        2       1        1         0          0   \n4    1300    410    55      2        2       1        1         1          0   \n5    1170      0    50      2        2       1        1         0          0   \n6    1000    180    52      1        2       1        1         1          0   \n7     900    150    40      2        2       1        1         0          0   \n8    1000      0    65      2        2       1        1         0          0   \n9    1000      0   100      2        2       1        1         0          0   \n10    760    160    38      2        2       1        1         0          0   \n11    800    150    48      2        2       1        1         0          0   \n12    900    130    56      2        2       1        1         0          0   \n13   1000    200    56      2        2       1        1         0          0   \n14   1800    418    54      2        2       1        1         1          0   \n15   1600    416    45      2        2       1        1         0          0   \n16   1500    337    55      2        2       1        1         1          0   \n17   1600    306    43      2        2       1        1         1          0   \n18   1600    150    80      2        2       1        1         1          0   \n19   1600    420    46      2        2       1        1         0          0   \n\n    Swimming Pool  New               District Negotiation Type Property Type  \\\n0               0    0  Artur Alvim/São Paulo             rent     apartment   \n1               0    0  Artur Alvim/São Paulo             rent     apartment   \n2               0    0  Artur Alvim/São Paulo             rent     apartment   \n3               0    0  Artur Alvim/São Paulo             rent     apartment   \n4               0    0  Artur Alvim/São Paulo             rent     apartment   \n5               0    0  Artur Alvim/São Paulo             rent     apartment   \n6               0    0  Artur Alvim/São Paulo             rent     apartment   \n7               0    0  Artur Alvim/São Paulo             rent     apartment   \n8               0    0  Artur Alvim/São Paulo             rent     apartment   \n9               0    0  Artur Alvim/São Paulo             rent     apartment   \n10              0    0  Artur Alvim/São Paulo             rent     apartment   \n11              0    0  Artur Alvim/São Paulo             rent     apartment   \n12              0    0  Artur Alvim/São Paulo             rent     apartment   \n13              0    0  Artur Alvim/São Paulo             rent     apartment   \n14              1    0        Belém/São Paulo             rent     apartment   \n15              0    0        Belém/São Paulo             rent     apartment   \n16              0    0        Belém/São Paulo             rent     apartment   \n17              0    0        Belém/São Paulo             rent     apartment   \n18              0    0        Belém/São Paulo             rent     apartment   \n19              0    0        Belém/São Paulo             rent     apartment   \n\n     Latitude  Longitude  \n0  -23.543138 -46.479486  \n1  -23.550239 -46.480718  \n2  -23.542818 -46.485665  \n3  -23.547171 -46.483014  \n4  -23.525025 -46.482436  \n5  -23.548751 -46.477195  \n6  -23.549840 -46.484137  \n7  -23.539740 -46.492670  \n8  -23.548751 -46.477195  \n9  -23.548751 -46.477195  \n10 -23.551850 -46.491169  \n11 -23.545761 -46.479509  \n12 -23.552073 -46.483411  \n13 -23.541366 -46.483726  \n14 -23.543955 -46.586619  \n15 -23.544698 -46.602114  \n16 -23.546104 -46.594579  \n17 -23.534606 -46.595084  \n18 -23.539620 -46.596337  \n19 -23.544698 -46.602114  ",
      "text/html": "<div>\n<style scoped>\n    .dataframe tbody tr th:only-of-type {\n        vertical-align: middle;\n    }\n\n    .dataframe tbody tr th {\n        vertical-align: top;\n    }\n\n    .dataframe thead th {\n        text-align: right;\n    }\n</style>\n<table border=\"1\" class=\"dataframe\">\n  <thead>\n    <tr style=\"text-align: right;\">\n      <th></th>\n      <th>Price</th>\n      <th>Condo</th>\n      <th>Size</th>\n      <th>Rooms</th>\n      <th>Toilets</th>\n      <th>Suites</th>\n      <th>Parking</th>\n      <th>Elevator</th>\n      <th>Furnished</th>\n      <th>Swimming Pool</th>\n      <th>New</th>\n      <th>District</th>\n      <th>Negotiation Type</th>\n      <th>Property Type</th>\n      <th>Latitude</th>\n      <th>Longitude</th>\n    </tr>\n  </thead>\n  <tbody>\n    <tr>\n      <th>0</th>\n      <td>930</td>\n      <td>220</td>\n      <td>47</td>\n      <td>2</td>\n      <td>2</td>\n      <td>1</td>\n      <td>1</td>\n      <td>0</td>\n      <td>0</td>\n      <td>0</td>\n      <td>0</td>\n      <td>Artur Alvim/São Paulo</td>\n      <td>rent</td>\n      <td>apartment</td>\n      <td>-23.543138</td>\n      <td>-46.479486</td>\n    </tr>\n    <tr>\n      <th>1</th>\n      <td>1000</td>\n      <td>148</td>\n      <td>45</td>\n      <td>2</td>\n      <td>2</td>\n      <td>1</td>\n      <td>1</td>\n      <td>0</td>\n      <td>0</td>\n      <td>0</td>\n      <td>0</td>\n      <td>Artur Alvim/São Paulo</td>\n      <td>rent</td>\n      <td>apartment</td>\n      <td>-23.550239</td>\n      <td>-46.480718</td>\n    </tr>\n    <tr>\n      <th>2</th>\n      <td>1000</td>\n      <td>100</td>\n      <td>48</td>\n      <td>2</td>\n      <td>2</td>\n      <td>1</td>\n      <td>1</td>\n      <td>0</td>\n      <td>0</td>\n      <td>0</td>\n      <td>0</td>\n      <td>Artur Alvim/São Paulo</td>\n      <td>rent</td>\n      <td>apartment</td>\n      <td>-23.542818</td>\n      <td>-46.485665</td>\n    </tr>\n    <tr>\n      <th>3</th>\n      <td>1000</td>\n      <td>200</td>\n      <td>48</td>\n      <td>2</td>\n      <td>2</td>\n      <td>1</td>\n      <td>1</td>\n      <td>0</td>\n      <td>0</td>\n      <td>0</td>\n      <td>0</td>\n      <td>Artur Alvim/São Paulo</td>\n      <td>rent</td>\n      <td>apartment</td>\n      <td>-23.547171</td>\n      <td>-46.483014</td>\n    </tr>\n    <tr>\n      <th>4</th>\n      <td>1300</td>\n      <td>410</td>\n      <td>55</td>\n      <td>2</td>\n      <td>2</td>\n      <td>1</td>\n      <td>1</td>\n      <td>1</td>\n      <td>0</td>\n      <td>0</td>\n      <td>0</td>\n      <td>Artur Alvim/São Paulo</td>\n      <td>rent</td>\n      <td>apartment</td>\n      <td>-23.525025</td>\n      <td>-46.482436</td>\n    </tr>\n    <tr>\n      <th>5</th>\n      <td>1170</td>\n      <td>0</td>\n      <td>50</td>\n      <td>2</td>\n      <td>2</td>\n      <td>1</td>\n      <td>1</td>\n      <td>0</td>\n      <td>0</td>\n      <td>0</td>\n      <td>0</td>\n      <td>Artur Alvim/São Paulo</td>\n      <td>rent</td>\n      <td>apartment</td>\n      <td>-23.548751</td>\n      <td>-46.477195</td>\n    </tr>\n    <tr>\n      <th>6</th>\n      <td>1000</td>\n      <td>180</td>\n      <td>52</td>\n      <td>1</td>\n      <td>2</td>\n      <td>1</td>\n      <td>1</td>\n      <td>1</td>\n      <td>0</td>\n      <td>0</td>\n      <td>0</td>\n      <td>Artur Alvim/São Paulo</td>\n      <td>rent</td>\n      <td>apartment</td>\n      <td>-23.549840</td>\n      <td>-46.484137</td>\n    </tr>\n    <tr>\n      <th>7</th>\n      <td>900</td>\n      <td>150</td>\n      <td>40</td>\n      <td>2</td>\n      <td>2</td>\n      <td>1</td>\n      <td>1</td>\n      <td>0</td>\n      <td>0</td>\n      <td>0</td>\n      <td>0</td>\n      <td>Artur Alvim/São Paulo</td>\n      <td>rent</td>\n      <td>apartment</td>\n      <td>-23.539740</td>\n      <td>-46.492670</td>\n    </tr>\n    <tr>\n      <th>8</th>\n      <td>1000</td>\n      <td>0</td>\n      <td>65</td>\n      <td>2</td>\n      <td>2</td>\n      <td>1</td>\n      <td>1</td>\n      <td>0</td>\n      <td>0</td>\n      <td>0</td>\n      <td>0</td>\n      <td>Artur Alvim/São Paulo</td>\n      <td>rent</td>\n      <td>apartment</td>\n      <td>-23.548751</td>\n      <td>-46.477195</td>\n    </tr>\n    <tr>\n      <th>9</th>\n      <td>1000</td>\n      <td>0</td>\n      <td>100</td>\n      <td>2</td>\n      <td>2</td>\n      <td>1</td>\n      <td>1</td>\n      <td>0</td>\n      <td>0</td>\n      <td>0</td>\n      <td>0</td>\n      <td>Artur Alvim/São Paulo</td>\n      <td>rent</td>\n      <td>apartment</td>\n      <td>-23.548751</td>\n      <td>-46.477195</td>\n    </tr>\n    <tr>\n      <th>10</th>\n      <td>760</td>\n      <td>160</td>\n      <td>38</td>\n      <td>2</td>\n      <td>2</td>\n      <td>1</td>\n      <td>1</td>\n      <td>0</td>\n      <td>0</td>\n      <td>0</td>\n      <td>0</td>\n      <td>Artur Alvim/São Paulo</td>\n      <td>rent</td>\n      <td>apartment</td>\n      <td>-23.551850</td>\n      <td>-46.491169</td>\n    </tr>\n    <tr>\n      <th>11</th>\n      <td>800</td>\n      <td>150</td>\n      <td>48</td>\n      <td>2</td>\n      <td>2</td>\n      <td>1</td>\n      <td>1</td>\n      <td>0</td>\n      <td>0</td>\n      <td>0</td>\n      <td>0</td>\n      <td>Artur Alvim/São Paulo</td>\n      <td>rent</td>\n      <td>apartment</td>\n      <td>-23.545761</td>\n      <td>-46.479509</td>\n    </tr>\n    <tr>\n      <th>12</th>\n      <td>900</td>\n      <td>130</td>\n      <td>56</td>\n      <td>2</td>\n      <td>2</td>\n      <td>1</td>\n      <td>1</td>\n      <td>0</td>\n      <td>0</td>\n      <td>0</td>\n      <td>0</td>\n      <td>Artur Alvim/São Paulo</td>\n      <td>rent</td>\n      <td>apartment</td>\n      <td>-23.552073</td>\n      <td>-46.483411</td>\n    </tr>\n    <tr>\n      <th>13</th>\n      <td>1000</td>\n      <td>200</td>\n      <td>56</td>\n      <td>2</td>\n      <td>2</td>\n      <td>1</td>\n      <td>1</td>\n      <td>0</td>\n      <td>0</td>\n      <td>0</td>\n      <td>0</td>\n      <td>Artur Alvim/São Paulo</td>\n      <td>rent</td>\n      <td>apartment</td>\n      <td>-23.541366</td>\n      <td>-46.483726</td>\n    </tr>\n    <tr>\n      <th>14</th>\n      <td>1800</td>\n      <td>418</td>\n      <td>54</td>\n      <td>2</td>\n      <td>2</td>\n      <td>1</td>\n      <td>1</td>\n      <td>1</td>\n      <td>0</td>\n      <td>1</td>\n      <td>0</td>\n      <td>Belém/São Paulo</td>\n      <td>rent</td>\n      <td>apartment</td>\n      <td>-23.543955</td>\n      <td>-46.586619</td>\n    </tr>\n    <tr>\n      <th>15</th>\n      <td>1600</td>\n      <td>416</td>\n      <td>45</td>\n      <td>2</td>\n      <td>2</td>\n      <td>1</td>\n      <td>1</td>\n      <td>0</td>\n      <td>0</td>\n      <td>0</td>\n      <td>0</td>\n      <td>Belém/São Paulo</td>\n      <td>rent</td>\n      <td>apartment</td>\n      <td>-23.544698</td>\n      <td>-46.602114</td>\n    </tr>\n    <tr>\n      <th>16</th>\n      <td>1500</td>\n      <td>337</td>\n      <td>55</td>\n      <td>2</td>\n      <td>2</td>\n      <td>1</td>\n      <td>1</td>\n      <td>1</td>\n      <td>0</td>\n      <td>0</td>\n      <td>0</td>\n      <td>Belém/São Paulo</td>\n      <td>rent</td>\n      <td>apartment</td>\n      <td>-23.546104</td>\n      <td>-46.594579</td>\n    </tr>\n    <tr>\n      <th>17</th>\n      <td>1600</td>\n      <td>306</td>\n      <td>43</td>\n      <td>2</td>\n      <td>2</td>\n      <td>1</td>\n      <td>1</td>\n      <td>1</td>\n      <td>0</td>\n      <td>0</td>\n      <td>0</td>\n      <td>Belém/São Paulo</td>\n      <td>rent</td>\n      <td>apartment</td>\n      <td>-23.534606</td>\n      <td>-46.595084</td>\n    </tr>\n    <tr>\n      <th>18</th>\n      <td>1600</td>\n      <td>150</td>\n      <td>80</td>\n      <td>2</td>\n      <td>2</td>\n      <td>1</td>\n      <td>1</td>\n      <td>1</td>\n      <td>0</td>\n      <td>0</td>\n      <td>0</td>\n      <td>Belém/São Paulo</td>\n      <td>rent</td>\n      <td>apartment</td>\n      <td>-23.539620</td>\n      <td>-46.596337</td>\n    </tr>\n    <tr>\n      <th>19</th>\n      <td>1600</td>\n      <td>420</td>\n      <td>46</td>\n      <td>2</td>\n      <td>2</td>\n      <td>1</td>\n      <td>1</td>\n      <td>0</td>\n      <td>0</td>\n      <td>0</td>\n      <td>0</td>\n      <td>Belém/São Paulo</td>\n      <td>rent</td>\n      <td>apartment</td>\n      <td>-23.544698</td>\n      <td>-46.602114</td>\n    </tr>\n  </tbody>\n</table>\n</div>"
     },
     "execution_count": 3,
     "metadata": {},
     "output_type": "execute_result"
    }
   ],
   "source": [
    "# Read the file\n",
    "df = pd.read_csv('sao-paulo-properties-april-2019.csv')\n",
    "df.head(20)"
   ],
   "metadata": {
    "collapsed": false,
    "ExecuteTime": {
     "end_time": "2023-06-05T00:01:33.806197Z",
     "start_time": "2023-06-05T00:01:33.765955Z"
    }
   }
  },
  {
   "cell_type": "code",
   "execution_count": 4,
   "outputs": [],
   "source": [
    "# Work with apartments that are for sale first\n",
    "sales = df[df['Negotiation Type'] == 'sale'].reset_index()"
   ],
   "metadata": {
    "collapsed": false,
    "ExecuteTime": {
     "end_time": "2023-06-05T00:01:33.811842Z",
     "start_time": "2023-06-05T00:01:33.808642Z"
    }
   }
  },
  {
   "cell_type": "code",
   "execution_count": 5,
   "outputs": [
    {
     "data": {
      "text/plain": "      index    Price  Condo  Size  Rooms  Toilets  Suites  Parking  Elevator  \\\n0      4901   732600   1000    74      1        2       1        2         1   \n1      4902  1990000   2400   164      4        5       2        3         1   \n2      4903   720000    700    70      2        2       1        1         1   \n3      4904  1680000   1580   155      3        5       3        2         1   \n4      4905  1200000    900    56      2        2       1        2         0   \n...     ...      ...    ...   ...    ...      ...     ...      ...       ...   \n6407  13635   265000    420    51      2        1       0        1         0   \n6408  13636   545000    630    74      3        2       1        2         0   \n6409  13637   515000   1100   114      3        3       1        1         0   \n6410  13638   345000     48    39      1        2       1        1         0   \n6411  13639   161987      0    44      2        1       0        1         0   \n\n      Furnished  Swimming Pool  New       District Negotiation Type  \\\n0             0              1    0  Vila Madalena             sale   \n1             1              1    0  Vila Madalena             sale   \n2             0              1    1  Vila Madalena             sale   \n3             0              1    0  Vila Madalena             sale   \n4             1              1    0  Vila Madalena             sale   \n...         ...            ...  ...            ...              ...   \n6407          0              0    0      Jabaquara             sale   \n6408          0              1    0      Jabaquara             sale   \n6409          0              1    0      Jabaquara             sale   \n6410          1              1    0      Jabaquara             sale   \n6411          0              0    0  Jardim Ângela             sale   \n\n     Property Type   Latitude  Longitude       City  \n0        apartment -23.552129 -46.692244  São Paulo  \n1        apartment -23.551613 -46.699106  São Paulo  \n2        apartment -23.547687 -46.692594  São Paulo  \n3        apartment -23.552590 -46.691104  São Paulo  \n4        apartment -23.553087 -46.697890  São Paulo  \n...            ...        ...        ...        ...  \n6407     apartment -23.653004 -46.635463  São Paulo  \n6408     apartment -23.648930 -46.641982  São Paulo  \n6409     apartment -23.649693 -46.649783  São Paulo  \n6410     apartment -23.652060 -46.637046  São Paulo  \n6411     apartment -23.613391 -46.523109  São Paulo  \n\n[6412 rows x 18 columns]",
      "text/html": "<div>\n<style scoped>\n    .dataframe tbody tr th:only-of-type {\n        vertical-align: middle;\n    }\n\n    .dataframe tbody tr th {\n        vertical-align: top;\n    }\n\n    .dataframe thead th {\n        text-align: right;\n    }\n</style>\n<table border=\"1\" class=\"dataframe\">\n  <thead>\n    <tr style=\"text-align: right;\">\n      <th></th>\n      <th>index</th>\n      <th>Price</th>\n      <th>Condo</th>\n      <th>Size</th>\n      <th>Rooms</th>\n      <th>Toilets</th>\n      <th>Suites</th>\n      <th>Parking</th>\n      <th>Elevator</th>\n      <th>Furnished</th>\n      <th>Swimming Pool</th>\n      <th>New</th>\n      <th>District</th>\n      <th>Negotiation Type</th>\n      <th>Property Type</th>\n      <th>Latitude</th>\n      <th>Longitude</th>\n      <th>City</th>\n    </tr>\n  </thead>\n  <tbody>\n    <tr>\n      <th>0</th>\n      <td>4901</td>\n      <td>732600</td>\n      <td>1000</td>\n      <td>74</td>\n      <td>1</td>\n      <td>2</td>\n      <td>1</td>\n      <td>2</td>\n      <td>1</td>\n      <td>0</td>\n      <td>1</td>\n      <td>0</td>\n      <td>Vila Madalena</td>\n      <td>sale</td>\n      <td>apartment</td>\n      <td>-23.552129</td>\n      <td>-46.692244</td>\n      <td>São Paulo</td>\n    </tr>\n    <tr>\n      <th>1</th>\n      <td>4902</td>\n      <td>1990000</td>\n      <td>2400</td>\n      <td>164</td>\n      <td>4</td>\n      <td>5</td>\n      <td>2</td>\n      <td>3</td>\n      <td>1</td>\n      <td>1</td>\n      <td>1</td>\n      <td>0</td>\n      <td>Vila Madalena</td>\n      <td>sale</td>\n      <td>apartment</td>\n      <td>-23.551613</td>\n      <td>-46.699106</td>\n      <td>São Paulo</td>\n    </tr>\n    <tr>\n      <th>2</th>\n      <td>4903</td>\n      <td>720000</td>\n      <td>700</td>\n      <td>70</td>\n      <td>2</td>\n      <td>2</td>\n      <td>1</td>\n      <td>1</td>\n      <td>1</td>\n      <td>0</td>\n      <td>1</td>\n      <td>1</td>\n      <td>Vila Madalena</td>\n      <td>sale</td>\n      <td>apartment</td>\n      <td>-23.547687</td>\n      <td>-46.692594</td>\n      <td>São Paulo</td>\n    </tr>\n    <tr>\n      <th>3</th>\n      <td>4904</td>\n      <td>1680000</td>\n      <td>1580</td>\n      <td>155</td>\n      <td>3</td>\n      <td>5</td>\n      <td>3</td>\n      <td>2</td>\n      <td>1</td>\n      <td>0</td>\n      <td>1</td>\n      <td>0</td>\n      <td>Vila Madalena</td>\n      <td>sale</td>\n      <td>apartment</td>\n      <td>-23.552590</td>\n      <td>-46.691104</td>\n      <td>São Paulo</td>\n    </tr>\n    <tr>\n      <th>4</th>\n      <td>4905</td>\n      <td>1200000</td>\n      <td>900</td>\n      <td>56</td>\n      <td>2</td>\n      <td>2</td>\n      <td>1</td>\n      <td>2</td>\n      <td>0</td>\n      <td>1</td>\n      <td>1</td>\n      <td>0</td>\n      <td>Vila Madalena</td>\n      <td>sale</td>\n      <td>apartment</td>\n      <td>-23.553087</td>\n      <td>-46.697890</td>\n      <td>São Paulo</td>\n    </tr>\n    <tr>\n      <th>...</th>\n      <td>...</td>\n      <td>...</td>\n      <td>...</td>\n      <td>...</td>\n      <td>...</td>\n      <td>...</td>\n      <td>...</td>\n      <td>...</td>\n      <td>...</td>\n      <td>...</td>\n      <td>...</td>\n      <td>...</td>\n      <td>...</td>\n      <td>...</td>\n      <td>...</td>\n      <td>...</td>\n      <td>...</td>\n      <td>...</td>\n    </tr>\n    <tr>\n      <th>6407</th>\n      <td>13635</td>\n      <td>265000</td>\n      <td>420</td>\n      <td>51</td>\n      <td>2</td>\n      <td>1</td>\n      <td>0</td>\n      <td>1</td>\n      <td>0</td>\n      <td>0</td>\n      <td>0</td>\n      <td>0</td>\n      <td>Jabaquara</td>\n      <td>sale</td>\n      <td>apartment</td>\n      <td>-23.653004</td>\n      <td>-46.635463</td>\n      <td>São Paulo</td>\n    </tr>\n    <tr>\n      <th>6408</th>\n      <td>13636</td>\n      <td>545000</td>\n      <td>630</td>\n      <td>74</td>\n      <td>3</td>\n      <td>2</td>\n      <td>1</td>\n      <td>2</td>\n      <td>0</td>\n      <td>0</td>\n      <td>1</td>\n      <td>0</td>\n      <td>Jabaquara</td>\n      <td>sale</td>\n      <td>apartment</td>\n      <td>-23.648930</td>\n      <td>-46.641982</td>\n      <td>São Paulo</td>\n    </tr>\n    <tr>\n      <th>6409</th>\n      <td>13637</td>\n      <td>515000</td>\n      <td>1100</td>\n      <td>114</td>\n      <td>3</td>\n      <td>3</td>\n      <td>1</td>\n      <td>1</td>\n      <td>0</td>\n      <td>0</td>\n      <td>1</td>\n      <td>0</td>\n      <td>Jabaquara</td>\n      <td>sale</td>\n      <td>apartment</td>\n      <td>-23.649693</td>\n      <td>-46.649783</td>\n      <td>São Paulo</td>\n    </tr>\n    <tr>\n      <th>6410</th>\n      <td>13638</td>\n      <td>345000</td>\n      <td>48</td>\n      <td>39</td>\n      <td>1</td>\n      <td>2</td>\n      <td>1</td>\n      <td>1</td>\n      <td>0</td>\n      <td>1</td>\n      <td>1</td>\n      <td>0</td>\n      <td>Jabaquara</td>\n      <td>sale</td>\n      <td>apartment</td>\n      <td>-23.652060</td>\n      <td>-46.637046</td>\n      <td>São Paulo</td>\n    </tr>\n    <tr>\n      <th>6411</th>\n      <td>13639</td>\n      <td>161987</td>\n      <td>0</td>\n      <td>44</td>\n      <td>2</td>\n      <td>1</td>\n      <td>0</td>\n      <td>1</td>\n      <td>0</td>\n      <td>0</td>\n      <td>0</td>\n      <td>0</td>\n      <td>Jardim Ângela</td>\n      <td>sale</td>\n      <td>apartment</td>\n      <td>-23.613391</td>\n      <td>-46.523109</td>\n      <td>São Paulo</td>\n    </tr>\n  </tbody>\n</table>\n<p>6412 rows × 18 columns</p>\n</div>"
     },
     "execution_count": 5,
     "metadata": {},
     "output_type": "execute_result"
    }
   ],
   "source": [
    "# Split the column 'District' into two - resulting in\n",
    "# a column for the District and another one for the\n",
    "# city name\n",
    "sales['City'] = sales['District'].apply(lambda x: x.split('/')[1].strip())\n",
    "sales['District'] = sales['District'].apply(lambda x: x.split('/')[0])\n",
    "sales"
   ],
   "metadata": {
    "collapsed": false,
    "ExecuteTime": {
     "end_time": "2023-06-05T00:01:33.831286Z",
     "start_time": "2023-06-05T00:01:33.816349Z"
    }
   }
  },
  {
   "cell_type": "code",
   "execution_count": 24,
   "outputs": [
    {
     "data": {
      "text/plain": "             District  Not New  New  Average Price Old  Average Price New\n0   Alto de Pinheiros       96    1       2.459189e+06       2.060200e+06\n1          Anhanguera       36    0       1.040806e+06                NaN\n2          Aricanduva       74    6       2.991457e+05       2.483333e+05\n3         Artur Alvim       78    6       1.911577e+05       1.706000e+05\n4         Barra Funda      115    4       5.868738e+05       4.798735e+05\n..                ...      ...  ...                ...                ...\n91       Vila Matilde       50    3       3.500940e+05       2.226667e+05\n92       Vila Olimpia       40    0       1.616112e+06                NaN\n93      Vila Prudente       92    4       3.668663e+05       1.093976e+06\n94         Vila Sônia       30    2       5.441477e+05       1.553000e+05\n95          Água Rasa       74    0       6.349459e+05                NaN\n\n[96 rows x 5 columns]",
      "text/html": "<div>\n<style scoped>\n    .dataframe tbody tr th:only-of-type {\n        vertical-align: middle;\n    }\n\n    .dataframe tbody tr th {\n        vertical-align: top;\n    }\n\n    .dataframe thead th {\n        text-align: right;\n    }\n</style>\n<table border=\"1\" class=\"dataframe\">\n  <thead>\n    <tr style=\"text-align: right;\">\n      <th></th>\n      <th>District</th>\n      <th>Not New</th>\n      <th>New</th>\n      <th>Average Price Old</th>\n      <th>Average Price New</th>\n    </tr>\n  </thead>\n  <tbody>\n    <tr>\n      <th>0</th>\n      <td>Alto de Pinheiros</td>\n      <td>96</td>\n      <td>1</td>\n      <td>2.459189e+06</td>\n      <td>2.060200e+06</td>\n    </tr>\n    <tr>\n      <th>1</th>\n      <td>Anhanguera</td>\n      <td>36</td>\n      <td>0</td>\n      <td>1.040806e+06</td>\n      <td>NaN</td>\n    </tr>\n    <tr>\n      <th>2</th>\n      <td>Aricanduva</td>\n      <td>74</td>\n      <td>6</td>\n      <td>2.991457e+05</td>\n      <td>2.483333e+05</td>\n    </tr>\n    <tr>\n      <th>3</th>\n      <td>Artur Alvim</td>\n      <td>78</td>\n      <td>6</td>\n      <td>1.911577e+05</td>\n      <td>1.706000e+05</td>\n    </tr>\n    <tr>\n      <th>4</th>\n      <td>Barra Funda</td>\n      <td>115</td>\n      <td>4</td>\n      <td>5.868738e+05</td>\n      <td>4.798735e+05</td>\n    </tr>\n    <tr>\n      <th>...</th>\n      <td>...</td>\n      <td>...</td>\n      <td>...</td>\n      <td>...</td>\n      <td>...</td>\n    </tr>\n    <tr>\n      <th>91</th>\n      <td>Vila Matilde</td>\n      <td>50</td>\n      <td>3</td>\n      <td>3.500940e+05</td>\n      <td>2.226667e+05</td>\n    </tr>\n    <tr>\n      <th>92</th>\n      <td>Vila Olimpia</td>\n      <td>40</td>\n      <td>0</td>\n      <td>1.616112e+06</td>\n      <td>NaN</td>\n    </tr>\n    <tr>\n      <th>93</th>\n      <td>Vila Prudente</td>\n      <td>92</td>\n      <td>4</td>\n      <td>3.668663e+05</td>\n      <td>1.093976e+06</td>\n    </tr>\n    <tr>\n      <th>94</th>\n      <td>Vila Sônia</td>\n      <td>30</td>\n      <td>2</td>\n      <td>5.441477e+05</td>\n      <td>1.553000e+05</td>\n    </tr>\n    <tr>\n      <th>95</th>\n      <td>Água Rasa</td>\n      <td>74</td>\n      <td>0</td>\n      <td>6.349459e+05</td>\n      <td>NaN</td>\n    </tr>\n  </tbody>\n</table>\n<p>96 rows × 5 columns</p>\n</div>"
     },
     "execution_count": 24,
     "metadata": {},
     "output_type": "execute_result"
    }
   ],
   "source": [
    "# Group the columns to show the quantity of apartments\n",
    "# by district and the average price of new ones and\n",
    "# old ones.\n",
    "sales_agg = sales.groupby(['District', 'New']).agg(Count=('New', 'count'), Mean_Price=('Price', 'mean')).reset_index()\n",
    "\n",
    "sales_agg = sales_agg.pivot(index='District', columns='New', values=['Count', 'Mean_Price']).reset_index()\n",
    "\n",
    "sales_agg.columns = ['District', 'Not New', 'New', 'Average Price Old', 'Average Price New']\n",
    "sales_agg['Not New'] = sales_agg['Not New'].astype(int)\n",
    "sales_agg['New'] = sales_agg['New'].fillna(0).astype(int)\n",
    "sales_agg\n"
   ],
   "metadata": {
    "collapsed": false,
    "ExecuteTime": {
     "end_time": "2023-06-05T00:13:45.286397Z",
     "start_time": "2023-06-05T00:13:45.257472Z"
    }
   }
  }
 ],
 "metadata": {
  "kernelspec": {
   "display_name": "Python 3",
   "language": "python",
   "name": "python3"
  },
  "language_info": {
   "codemirror_mode": {
    "name": "ipython",
    "version": 2
   },
   "file_extension": ".py",
   "mimetype": "text/x-python",
   "name": "python",
   "nbconvert_exporter": "python",
   "pygments_lexer": "ipython2",
   "version": "2.7.6"
  }
 },
 "nbformat": 4,
 "nbformat_minor": 0
}
